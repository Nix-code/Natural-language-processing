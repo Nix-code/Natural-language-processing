{
 "cells": [
  {
   "cell_type": "markdown",
   "id": "5f767085-61bd-4e66-833b-acd1b58de77f",
   "metadata": {},
   "source": [
    "### Recurrent Neural Network"
   ]
  },
  {
   "cell_type": "code",
   "execution_count": 3,
   "id": "7e14f2e1-2c62-4a04-8de1-88af222fec48",
   "metadata": {},
   "outputs": [],
   "source": [
    "import numpy as np\n",
    "import matplotlib.pyplot as plt"
   ]
  },
  {
   "cell_type": "markdown",
   "id": "50e78e6a-0b03-4db7-a4a0-7d4dd9dc4054",
   "metadata": {},
   "source": [
    "#### Some utility functions"
   ]
  },
  {
   "cell_type": "code",
   "execution_count": 4,
   "id": "e9198e7c-889a-4d14-b4eb-a7812a00608e",
   "metadata": {},
   "outputs": [],
   "source": [
    "def softmax(val):\n",
    "    ex = np.exp(val - np.max(val))\n",
    "    return ex/ex.sum(axis = 0)"
   ]
  },
  {
   "cell_type": "code",
   "execution_count": 5,
   "id": "4370bca2-52ef-4cf3-8857-db58707323df",
   "metadata": {},
   "outputs": [],
   "source": [
    "def sigmoid(val):\n",
    "    return 1 / (1 + np.exp(-val))"
   ]
  },
  {
   "cell_type": "markdown",
   "id": "b27e21f1-1f25-43f8-9e37-40b44fead280",
   "metadata": {},
   "source": [
    "#### Lets plot sigmoid function"
   ]
  },
  {
   "cell_type": "code",
   "execution_count": 6,
   "id": "e1ec9fe6-e68f-4423-917c-df54129cd002",
   "metadata": {},
   "outputs": [
    {
     "data": {
      "image/png": "[encoded data removed]",
      "text/plain": [
       "<Figure size 432x288 with 1 Axes>"
      ]
     },
     "metadata": {
      "needs_background": "light"
     },
     "output_type": "display_data"
    }
   ],
   "source": [
    "x = np.linspace(-10, 10, 100)\n",
    "y = sigmoid(x)\n",
    "plt.title(\"Sigmoid function\")\n",
    "plt.xlabel(\"x\")\n",
    "plt.ylabel(\"sigmoid(x)\")\n",
    "plt.plot(x,y)\n",
    "plt.show()"
   ]
  },
  {
   "cell_type": "code",
   "execution_count": 7,
   "id": "21b58047-61d7-457f-8815-fea156777ddb",
   "metadata": {},
   "outputs": [],
   "source": [
    "def rnn_unit(xt, a_prev, parameters):\n",
    "    \n",
    "    # get the weight and bias\n",
    "    \n",
    "    Wax = parameters['Wax']\n",
    "    Waa = parameters['Waa']\n",
    "    Wya = parameters['Wya']\n",
    "    ba = parameters['ba']\n",
    "    by = parameters['by']\n",
    "    \n",
    "    # calculate a_next and yt_pred\n",
    "    a_next = np.tanh(np.dot(Wax, xt)+np.dot(Waa, a_prev)+ba)\n",
    "    yt_pred = softmax(np.dot(Wya, a_next)+by)\n",
    "    \n",
    "    cache = (a_next, a_prev, xt, parameters)\n",
    "    \n",
    "    return a_next, yt_pred, cache\n",
    "    "
   ]
  },
  {
   "cell_type": "code",
   "execution_count": 8,
   "id": "cc7f96bf-0137-4c89-9dd3-45d6d5ebb36b",
   "metadata": {},
   "outputs": [
    {
     "data": {
      "text/plain": [
       "array([[ 0.95442347, -0.97959841, -0.77682357, -0.85960496,  0.2996283 ,\n",
       "        -0.72828789,  0.70341981,  0.396781  ,  0.64215271, -0.68720152],\n",
       "       [-0.77817006, -0.96939535, -0.90158668, -0.89269334, -0.94794605,\n",
       "        -0.62569074, -0.7847199 ,  0.73807292,  0.40638533, -0.49874722],\n",
       "       [ 0.34337788, -0.99997631, -0.99692205, -0.98133709, -0.93123291,\n",
       "        -0.99802557, -0.99662894, -0.93641136, -0.25153222,  0.54770565],\n",
       "       [-0.85404662,  0.97190276,  0.60516394,  0.65999969, -0.68038654,\n",
       "         0.09222782,  0.34729991,  0.41705046, -0.44431726,  0.74395075],\n",
       "       [ 0.59584544,  0.18141802,  0.61311866,  0.99808218,  0.85016201,\n",
       "         0.99980978, -0.18887155,  0.99815551,  0.6531151 ,  0.82872037]])"
      ]
     },
     "execution_count": 8,
     "metadata": {},
     "output_type": "execute_result"
    }
   ],
   "source": [
    "np.random.seed(1)\n",
    "\n",
    "xt = np.random.randn(3,10)  # (nx, m)\n",
    "a_prev = np.random.randn(5,10) # (na, m)\n",
    "Waa = np.random.randn(5,5)  #(na, na)\n",
    "Wax = np.random.randn(5,3)  #(na, nx)\n",
    "Wya = np.random.randn(2,5)  #(ny, na)\n",
    "ba = np.random.randn(5,1)   #(na, 1)\n",
    "by = np.random.randn(2,1)   #(ny, 1)\n",
    "\n",
    "parameters = {'Waa':Waa,'Wax':Wax, 'Wya':Wya, 'ba':ba, 'by':by}\n",
    "a_next, yt_pred, cache = rnn_unit(xt, a_prev, parameters)\n",
    "a_next"
   ]
  },
  {
   "cell_type": "markdown",
   "id": "bf3421fc-b781-46ae-851f-1eb411e7366e",
   "metadata": {},
   "source": [
    "### Forward Propagation"
   ]
  },
  {
   "cell_type": "code",
   "execution_count": 9,
   "id": "91035d23-91d8-426d-8881-9c6a74281570",
   "metadata": {},
   "outputs": [],
   "source": [
    "def forward_propagation(x, a0, paramaters):\n",
    "    \n",
    "    caches = []\n",
    "    n_x, m, T_x = x.shape\n",
    "    n_y, n_a = parameters[\"Wya\"].shape\n",
    "    \n",
    "    # initializing a and y with zeros\n",
    "    a = np.zeros((n_a, m, T_x))\n",
    "    y_pred = np.zeros((n_y, m, T_x))\n",
    "    \n",
    "    a_next = a0\n",
    "    # loop over all time steps\n",
    "    for t in range(T_x):\n",
    "        a_next, yt_pred, cache = rnn_unit(x[:,:,t], a_next, parameters)\n",
    "        \n",
    "        # new hidden state\n",
    "        a[:,:,t] = a_next\n",
    "        \n",
    "        y_pred[:,:,t] = yt_pred\n",
    "        \n",
    "        caches.append(cache)\n",
    "    \n",
    "    caches = (caches, x)\n",
    "    return a, y_pred, caches\n",
    "        "
   ]
  },
  {
   "cell_type": "code",
   "execution_count": 10,
   "id": "8fc13810-c07a-4cbc-99ed-ad7db8500354",
   "metadata": {},
   "outputs": [
    {
     "name": "stdout",
     "output_type": "stream",
     "text": [
      "2\n"
     ]
    }
   ],
   "source": [
    "np.random.seed(1)\n",
    "x = np.random.randn(3,10,4) # T_x = 4\n",
    "a0 = np.random.randn(5,10) # (na, m)\n",
    "Waa = np.random.randn(5,5) #(na, na)\n",
    "Wax = np.random.randn(5,3) #(na, nx)\n",
    "Wya = np.random.randn(2, 5) #(ny, na)\n",
    "ba = np.random.randn(5,1) #(na, 1)\n",
    "by = np.random.randn(2,1) #(ny, 1)\n",
    "\n",
    "parameters = {\"Waa\": Waa, \"Wax\": Wax, \"Wya\": Wya, \"ba\": ba, \"by\": by}\n",
    "a, y_pred, caches = forward_propagation(x, a0, parameters)\n",
    "a[4][1]\n",
    "\n",
    "print(len(caches))\n"
   ]
  },
  {
   "cell_type": "code",
   "execution_count": null,
   "id": "a7f3b06d-03c5-4512-a0c3-414119a4f66f",
   "metadata": {},
   "outputs": [],
   "source": []
  },
  {
   "cell_type": "markdown",
   "id": "5723fb74",
   "metadata": {},
   "source": [
    "### Back propagation"
   ]
  },
  {
   "cell_type": "code",
   "execution_count": 11,
   "id": "ecde0fd5",
   "metadata": {},
   "outputs": [],
   "source": [
    "def rnn_backpropagation(da_next, cache):\n",
    "    \n",
    "    # get the values from the caches\n",
    "    \n",
    "    (a_next, a_prev, xt, parameters) = cache\n",
    "    \n",
    "    # retrieve the parameters value\n",
    "    Wax = parameters[\"Wax\"]\n",
    "    Waa = parameters[\"Waa\"]\n",
    "    Wya = parameters[\"Wya\"]\n",
    "    ba = parameters[\"ba\"]\n",
    "    by = parameters[\"by\"]\n",
    "    \n",
    "    dtanh = (1 - a_next **2) * da_next\n",
    "    \n",
    "    # gradient of tanh w.r.t Wax\n",
    "    \n",
    "    dxt = np.dot(Wax.T, dtanh)\n",
    "    dWax = np.dot(dtanh, xt.T)\n",
    "    \n",
    "    # gradient wrt Waa\n",
    "    da_prev = np.dot(Waa.T, dtanh)\n",
    "    dWaa = np.dot(dtanh, a_prev.T)\n",
    "    \n",
    "    # gradient wrt b\n",
    "    dba = np.sum(dtanh, axis = 1, keepdims = 1)\n",
    "    # store the gradients\n",
    "    gradients = {\"dxt\": dxt, \"da_prev\": da_prev, \"dWax\": dWax, \"dWaa\": dWaa, \"dba\": dba}\n",
    "    \n",
    "    return gradients"
   ]
  },
  {
   "cell_type": "code",
   "execution_count": 12,
   "id": "4b750ef4-ecde-4e11-b2b3-0489afdfce55",
   "metadata": {},
   "outputs": [
    {
     "name": "stdout",
     "output_type": "stream",
     "text": [
      "gradients[\"dxt\"][1][2] = 1.3653821219712916\n",
      "gradients[\"da_prev\"][2][3] = -0.04357779106461625\n"
     ]
    }
   ],
   "source": [
    "### Test cases\n",
    "\n",
    "np.random.seed(1)\n",
    "xt = np.random.randn(3,10)\n",
    "a_prev = np.random.randn(5,10)\n",
    "Wax = np.random.randn(5,3)\n",
    "Waa = np.random.randn(5,5)\n",
    "Wya = np.random.randn(2,5)\n",
    "b = np.random.randn(5,1)\n",
    "by = np.random.randn(2,1)\n",
    "parameters = {\"Wax\": Wax, \"Waa\": Waa, \"Wya\": Wya, \"ba\": ba, \"by\": by}\n",
    "da_next = np.random.randn(5,10)\n",
    "gradients = rnn_backpropagation(da_next, cache)\n",
    "print(\"gradients[\\\"dxt\\\"][1][2] =\", gradients[\"dxt\"][1][2])\n",
    "print(\"gradients[\\\"da_prev\\\"][2][3] =\", gradients[\"da_prev\"][2][3])"
   ]
  },
  {
   "cell_type": "code",
   "execution_count": null,
   "id": "c158842a-bffd-49d2-b7d2-cec7267e850d",
   "metadata": {},
   "outputs": [],
   "source": []
  },
  {
   "cell_type": "markdown",
   "id": "15cca9b0-bfa9-4e6b-9674-1483cacb6ba6",
   "metadata": {},
   "source": [
    "#### Back propagation for entire time steps"
   ]
  },
  {
   "cell_type": "code",
   "execution_count": 13,
   "id": "f6834bde-f8f2-4653-a5b6-0756eaf2eef6",
   "metadata": {},
   "outputs": [],
   "source": [
    "def rnn_entire_backward(da, caches):\n",
    "    \n",
    "    (caches, x)  = caches\n",
    "    (a1, x0, x1, paramaters) = caches[0]\n",
    "    \n",
    "    n_a, m, T_x = da.shape\n",
    "    n_x, m = x1.shape\n",
    "    \n",
    "    dx = np.zeros((n_x, m, T_x))\n",
    "    dWax = np.zeros((n_a, n_x))\n",
    "    dWaa = np.zeros((n_a, n_a))\n",
    "    dba = np.zeros((n_a, 1))\n",
    "    da0 = np.zeros((n_a, m))\n",
    "    da_prevt = np.zeros((n_a, m))\n",
    "    \n",
    "    \n",
    "    # loop through all the time steps\n",
    "    \n",
    "    for t in reversed(range(T_x)):\n",
    "        \n",
    "        gradients = rnn_backpropagation(da[:,:,t] + da_prevt, caches[t])\n",
    "        \n",
    "        # get all the derivatives we calculated before\n",
    "        dxt, da_prevt, dWaxt, dWaat, dbat = gradients[\"dxt\"], gradients[\"da_prev\"], gradients[\"dWax\"], gradients[\"dWaa\"], gradients[\"dba\"]\n",
    "        \n",
    "        dx[:,:,t] = dxt\n",
    "        dWax += dWaxt\n",
    "        dWaa += dWaat\n",
    "        dba += dbat\n",
    "        \n",
    "        da0 = da_prevt\n",
    "        \n",
    "        gradients = {\"dx\": dx, \"da0\": da0, \"dWax\": dWax, \"dWaa\": dWaa,\"dba\": dba}\n",
    "    \n",
    "    return gradients\n",
    "        \n",
    "    "
   ]
  },
  {
   "cell_type": "code",
   "execution_count": 16,
   "id": "7fbb78ee-48b5-47c9-b798-5ae2b62c710b",
   "metadata": {},
   "outputs": [
    {
     "name": "stdout",
     "output_type": "stream",
     "text": [
      "gradients[\"dx\"][1][2] = [-2.07101689 -0.59255627  0.02466855  0.01483317]\n",
      "gradients[\"dx\"].shape = (3, 10, 4)\n",
      "gradients[\"da0\"][2][3] = -0.31494237512664996\n",
      "gradients[\"da0\"].shape = (5, 10)\n",
      "gradients[\"dWax\"][3][1] = 11.264104496527777\n",
      "gradients[\"dWax\"].shape = (5, 3)\n",
      "gradients[\"dWaa\"][1][2] = 2.303333126579893\n",
      "gradients[\"dWaa\"].shape = (5, 5)\n",
      "gradients[\"dba\"][4] = [-0.74747722]\n",
      "gradients[\"dba\"].shape = (5, 1)\n"
     ]
    }
   ],
   "source": [
    "np.random.seed(1)\n",
    "x = np.random.randn(3,10,4)\n",
    "a0 = np.random.randn(5,10)\n",
    "Wax = np.random.randn(5,3)\n",
    "Waa = np.random.randn(5,5)\n",
    "Wya = np.random.randn(2,5)\n",
    "ba = np.random.randn(5,1)\n",
    "by = np.random.randn(2,1)\n",
    "\n",
    "parameters = {\"Wax\": Wax, \"Waa\": Waa, \"Wya\": Wya, \"ba\": ba, \"by\": by}\n",
    "a, y, caches = forward_propagation(x, a0, parameters)\n",
    "da = np.random.randn(5, 10, 4)\n",
    "gradients = rnn_entire_backward(da, caches)\n",
    "\n",
    "\n",
    "print(\"gradients[\\\"dx\\\"][1][2] =\", gradients[\"dx\"][1][2])\n",
    "print(\"gradients[\\\"dx\\\"].shape =\", gradients[\"dx\"].shape)\n",
    "print(\"gradients[\\\"da0\\\"][2][3] =\", gradients[\"da0\"][2][3])\n",
    "print(\"gradients[\\\"da0\\\"].shape =\", gradients[\"da0\"].shape)\n",
    "print(\"gradients[\\\"dWax\\\"][3][1] =\", gradients[\"dWax\"][3][1])\n",
    "print(\"gradients[\\\"dWax\\\"].shape =\", gradients[\"dWax\"].shape)\n",
    "print(\"gradients[\\\"dWaa\\\"][1][2] =\", gradients[\"dWaa\"][1][2])\n",
    "print(\"gradients[\\\"dWaa\\\"].shape =\", gradients[\"dWaa\"].shape)\n",
    "print(\"gradients[\\\"dba\\\"][4] =\", gradients[\"dba\"][4])\n",
    "print(\"gradients[\\\"dba\\\"].shape =\", gradients[\"dba\"].shape)"
   ]
  },
  {
   "cell_type": "code",
   "execution_count": null,
   "id": "a3160a8f-7fed-465e-8d49-a22ee0f8a7be",
   "metadata": {},
   "outputs": [],
   "source": []
  },
  {
   "cell_type": "code",
   "execution_count": null,
   "id": "adfd15a5-3eb2-410d-b202-608bd3da3b79",
   "metadata": {},
   "outputs": [],
   "source": []
  }
 ],
 "metadata": {
  "kernelspec": {
   "display_name": "Python 3 (ipykernel)",
   "language": "python",
   "name": "python3"
  },
  "language_info": {
   "codemirror_mode": {
    "name": "ipython",
    "version": 3
   },
   "file_extension": ".py",
   "mimetype": "text/x-python",
   "name": "python",
   "nbconvert_exporter": "python",
   "pygments_lexer": "ipython3",
   "version": "3.8.10"
  }
 },
 "nbformat": 4,
 "nbformat_minor": 5
}
