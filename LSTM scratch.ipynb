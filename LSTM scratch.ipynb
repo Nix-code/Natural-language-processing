{
 "cells": [
  {
   "cell_type": "markdown",
   "id": "7a4f745e-9ae8-49ee-86e0-9e3106294973",
   "metadata": {},
   "source": [
    "### Long short term memory"
   ]
  },
  {
   "cell_type": "markdown",
   "id": "844be8cf-7015-46d3-ab6d-27b58346ff20",
   "metadata": {},
   "source": [
    "**Forget gate**: Information from the previous hidden state and information from the current input is passed through the sigmoid function.\n",
    "If result is '0' forget the information else if it is '1' keep the information"
   ]
  },
  {
   "cell_type": "markdown",
   "id": "76d0fe05-f594-4749-b3ca-bb79a741566f",
   "metadata": {},
   "source": [
    "**Input gate**: Information from previous state and the current input is passed through the sigmoid function to pass only the information that is\n",
    "needed for updation. Same input is passed through the tanh activation to regulate the network. It ranges (-inf, inf). At last sigmoid output and \n",
    "tanh output is multiplied and the sigmoid output decides which information is to keep from tanh output."
   ]
  },
  {
   "cell_type": "markdown",
   "id": "a8c85a7d-e17e-4318-8be0-ea81f8d40c35",
   "metadata": {},
   "source": [
    "**Cell state** : output from the forget gate and the information from the previous cell state is multiplied. Cell state may drop the values if multiplication gets near zero.Then we take the output from the input gate and do a pointwise addition which updates the cell state to new values. Now we get the new cell state"
   ]
  },
  {
   "cell_type": "markdown",
   "id": "aeca5c9f-dcaa-4fdd-b8cc-820b77de3017",
   "metadata": {},
   "source": [
    "**Output gate**: input and information from previous hidden state is passed through sigmoid activation function then we pass the modified cell\n",
    "state to the tanh activation function.\n",
    "We multiply the tanh output with the sigmoid output to decide what information the hidden state should carry.\n",
    "Then it outputs new hidden state and the new cell state and it continues."
   ]
  },
  {
   "cell_type": "code",
   "execution_count": 32,
   "id": "3bf4ce11-8d78-4386-9190-aa5d8e79e619",
   "metadata": {},
   "outputs": [],
   "source": [
    "import numpy as np\n"
   ]
  },
  {
   "cell_type": "code",
   "execution_count": 48,
   "id": "f28d8db6-e2c6-4015-a0cb-53eec63a262b",
   "metadata": {},
   "outputs": [],
   "source": [
    "def sigmoid(x):\n",
    "    return 1 / (1 + np.exp(-x))"
   ]
  },
  {
   "cell_type": "code",
   "execution_count": 34,
   "id": "9b24b698-51f8-4402-a26f-2c84fdc61c8d",
   "metadata": {},
   "outputs": [],
   "source": [
    "def softmax(x):\n",
    "    e_x = np.exp(x - np.max(x))\n",
    "    return e_x / e_x.sum(axis=0)"
   ]
  },
  {
   "cell_type": "code",
   "execution_count": 54,
   "id": "91bdc53a-5ed4-4e15-95e4-bc3107bedada",
   "metadata": {},
   "outputs": [],
   "source": [
    "def lstm_cell(xt, a_prev, c_prev, parameters):\n",
    "    # xt is the input data at timestep 't'\n",
    "    # a_prev is the hidden state at timestep 't-1'\n",
    "    # c_prev is the memory state at timestep 't-1'\n",
    "    # parameters contains dictionary with the weights and bias info\n",
    "    \n",
    "    # get parameters\n",
    "    Wf = parameters[\"Wf\"]\n",
    "    bf = parameters[\"bf\"]\n",
    "    Wi = parameters[\"Wi\"]\n",
    "    bi = parameters[\"bi\"]\n",
    "    Wc = parameters[\"Wc\"]\n",
    "    bc = parameters[\"bc\"]\n",
    "    Wo = parameters[\"Wo\"]\n",
    "    bo = parameters[\"bo\"]\n",
    "    Wy = parameters[\"Wy\"]\n",
    "    by = parameters[\"by\"]\n",
    "    \n",
    "    n_x, m = xt.shape\n",
    "    n_y, n_a = Wy.shape\n",
    "    \n",
    "    # concate the inputs (hidden state and the input)\n",
    "    concat = np.zeros((n_a + n_x, m))\n",
    "    concat[: n_a, :] = a_prev\n",
    "    concat[n_a :, :] = xt\n",
    "    \n",
    "    \n",
    "    # compute several equations of forget, update, cell state and output gate\n",
    "    \n",
    "    ft = sigmoid(np.dot(Wf, concat) + bf)\n",
    "    it = sigmoid(np.dot(Wi, concat) + bi)\n",
    "    cct = np.tanh(np.dot(Wc, concat) + bc)\n",
    "    c_next = ft * c_prev + it * cct\n",
    "    ot = sigmoid(np.dot(Wo, concat) + bo)\n",
    "    a_next = ot * np.tanh(c_next)\n",
    "    \n",
    "    # compute the prediction\n",
    "    yt_pred = softmax(np.dot(Wy, a_next) + by)\n",
    "    \n",
    "    # store the required information tot the cache\n",
    "    cache = (a_next, c_next, a_prev, c_prev, ft, it, cct, ot, xt, parameters)\n",
    "\n",
    "    return a_next, c_next, yt_pred, cache\n",
    "\n",
    "\n"
   ]
  },
  {
   "cell_type": "code",
   "execution_count": 61,
   "id": "48eb23dd-260b-47c7-a296-9638e184b480",
   "metadata": {},
   "outputs": [
    {
     "name": "stdout",
     "output_type": "stream",
     "text": [
      "a_next[4] =  [-0.66408471  0.0036921   0.02088357  0.22834167 -0.85575339  0.00138482\n",
      "  0.76566531  0.34631421 -0.00215674  0.43827275]\n"
     ]
    }
   ],
   "source": [
    "np.random.seed(1)\n",
    "xt = np.random.randn(3,10)\n",
    "a_prev = np.random.randn(5,10)\n",
    "c_prev = np.random.randn(5,10)\n",
    "\n",
    "Wf = np.random.randn(5,5+3)\n",
    "bf = np.random.randn(5,1)\n",
    "\n",
    "\n",
    "Wi = np.random.randn(5,5+3)\n",
    "bi = np.random.randn(5,1)\n",
    "\n",
    "Wo = np.random.randn(5, 5+3)\n",
    "bo = np.random.randn(5, 1)\n",
    "\n",
    "Wc = np.random.randn(5, 5+3)\n",
    "bc = np.random.randn(5, 1)\n",
    "Wy = np.random.randn(2,5)\n",
    "by = np.random.randn(2, 1)\n",
    "\n",
    "parameters = {\"Wf\": Wf, \"Wi\": Wi, \"Wo\": Wo, \"Wc\": Wc, \"Wy\": Wy, \"bf\": bf, \"bi\": bi, \"bo\": bo, \"bc\": bc, \"by\": by}\n",
    "\n",
    "a_next, c_next, yt, cache = lstm_cell(xt, a_prev, c_prev, parameters)\n",
    "print(\"a_next[4] = \", a_next[4])"
   ]
  },
  {
   "cell_type": "markdown",
   "id": "db8fef11-7d85-4b42-bc58-450f6531fc3d",
   "metadata": {},
   "source": [
    "#### Forward pass"
   ]
  },
  {
   "cell_type": "code",
   "execution_count": 62,
   "id": "9de7ce94-3033-4b24-8e6f-0e6d33a85eb0",
   "metadata": {},
   "outputs": [],
   "source": [
    "def lstm_forward(x, a0, parameters):\n",
    "    \n",
    "    caches = []\n",
    "    \n",
    "    n_x, m, T_x = x.shape\n",
    "    n_y, n_a = parameters[\"Wy\"].shape\n",
    "    \n",
    "    # initialize a, c and y with zeros\n",
    "    a = np.zeros((n_a, m, T_x))\n",
    "    c = np.zeros((n_a, m, T_x))\n",
    "    y = np.zeros((n_y, m, T_x))\n",
    "    \n",
    "    a_next = a0\n",
    "    c_next = np.zeros(a_next.shape)\n",
    "    \n",
    "    \n",
    "    # loop over all time steps\n",
    "    \n",
    "    for t in range(T_x):\n",
    "        a_next, c_next, yt, cache = lstm_cell(x[:, :, t], a_next, c_next, parameters)\n",
    "        a[:, :, t] = a_next\n",
    "        y[:, :, t] = yt\n",
    "        c[:, :, t] = c_next\n",
    "        \n",
    "        caches.append(cache)\n",
    "        \n",
    "    caches = (caches, x)\n",
    "    \n",
    "    return a, y, c, caches"
   ]
  },
  {
   "cell_type": "code",
   "execution_count": 63,
   "id": "3067dd3a-3295-4be8-8a21-4c826a9c01f4",
   "metadata": {},
   "outputs": [
    {
     "name": "stdout",
     "output_type": "stream",
     "text": [
      "a[4][3][6] =  0.17211776753291672\n"
     ]
    }
   ],
   "source": [
    "np.random.seed(1)\n",
    "x = np.random.randn(3,10,7)\n",
    "a0 = np.random.randn(5,10)\n",
    "Wf = np.random.randn(5, 5+3)\n",
    "bf = np.random.randn(5,1)\n",
    "Wi = np.random.randn(5, 5+3)\n",
    "bi = np.random.randn(5,1)\n",
    "Wo = np.random.randn(5, 5+3)\n",
    "bo = np.random.randn(5,1)\n",
    "Wc = np.random.randn(5, 5+3)\n",
    "bc = np.random.randn(5,1)\n",
    "Wy = np.random.randn(2,5)\n",
    "by = np.random.randn(2,1)\n",
    "\n",
    "parameters = {\"Wf\": Wf, \"Wi\": Wi, \"Wo\": Wo, \"Wc\": Wc, \"Wy\": Wy, \"bf\": bf, \"bi\": bi, \"bo\": bo, \"bc\": bc, \"by\": by}\n",
    "\n",
    "a, y, c, caches = lstm_forward(x, a0, parameters)\n",
    "print(\"a[4][3][6] = \", a[4][3][6])"
   ]
  },
  {
   "cell_type": "code",
   "execution_count": 64,
   "id": "48d7fb44-3c06-41b4-881c-7aec4f835ed2",
   "metadata": {},
   "outputs": [
    {
     "data": {
      "text/plain": [
       "(5, 10, 7)"
      ]
     },
     "execution_count": 64,
     "metadata": {},
     "output_type": "execute_result"
    }
   ],
   "source": [
    "a.shape"
   ]
  }
 ],
 "metadata": {
  "kernelspec": {
   "display_name": "Python 3 (ipykernel)",
   "language": "python",
   "name": "python3"
  },
  "language_info": {
   "codemirror_mode": {
    "name": "ipython",
    "version": 3
   },
   "file_extension": ".py",
   "mimetype": "text/x-python",
   "name": "python",
   "nbconvert_exporter": "python",
   "pygments_lexer": "ipython3",
   "version": "3.8.10"
  }
 },
 "nbformat": 4,
 "nbformat_minor": 5
}
